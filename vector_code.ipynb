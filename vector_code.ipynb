{
 "cells": [
  {
   "cell_type": "code",
   "execution_count": 3,
   "id": "9fe27f5e",
   "metadata": {},
   "outputs": [],
   "source": [
    "import pygame\n",
    "import random\n",
    "import numpy as np\n",
    "import pandas as pd \n",
    "from copy import deepcopy\n",
    "from numba import jit"
   ]
  },
  {
   "cell_type": "code",
   "execution_count": 4,
   "id": "f345583b",
   "metadata": {},
   "outputs": [],
   "source": [
    "epoch = 365 # T\n",
    "limit_time_illness = 21 # T1\n",
    "limit_time_vaccine = 90\n",
    "limit_time_immun_con = 90 # T2\n",
    "probability_immun_abs = 0 # p1\n",
    "probability_infect = 0.026 # p2\n",
    "probability_lethal = 0.021 # p3\n",
    "probability_virus_carrier = 0.1 # p4\n",
    "time_found_illness = 7"
   ]
  },
  {
   "cell_type": "code",
   "execution_count": 5,
   "id": "0546fbf5",
   "metadata": {},
   "outputs": [],
   "source": [
    "matrix_offsets = np.array(\n",
    "                    [[1,1,1,1,1],\n",
    "                    [1,1,1,1,1],\n",
    "                    [1,1,1,1,1],\n",
    "                    [1,1,1,1,1],\n",
    "                    [1,1,1,1,1]])\n",
    "dy = matrix_offsets.shape[0] // 2\n",
    "dx = matrix_offsets.shape[1] // 2\n",
    "N = matrix_offsets.shape[0]\n",
    "\n",
    "dict_of_colours = {0: \"black\",\n",
    "                   1: \"forestgreen\",\n",
    "                   2: \"red\",\n",
    "                   3: \"blue\",\n",
    "                   4: \"yellow\"}"
   ]
  },
  {
   "cell_type": "code",
   "execution_count": 6,
   "id": "9d345c24",
   "metadata": {},
   "outputs": [
    {
     "data": {
      "text/plain": [
       "(2, 2)"
      ]
     },
     "execution_count": 6,
     "metadata": {},
     "output_type": "execute_result"
    }
   ],
   "source": [
    "dx, dy"
   ]
  },
  {
   "cell_type": "code",
   "execution_count": 11,
   "id": "019b9318",
   "metadata": {},
   "outputs": [
    {
     "data": {
      "text/html": [
       "<div>\n",
       "<style scoped>\n",
       "    .dataframe tbody tr th:only-of-type {\n",
       "        vertical-align: middle;\n",
       "    }\n",
       "\n",
       "    .dataframe tbody tr th {\n",
       "        vertical-align: top;\n",
       "    }\n",
       "\n",
       "    .dataframe thead th {\n",
       "        text-align: right;\n",
       "    }\n",
       "</style>\n",
       "<table border=\"1\" class=\"dataframe\">\n",
       "  <thead>\n",
       "    <tr style=\"text-align: right;\">\n",
       "      <th></th>\n",
       "      <th>вероятность заражения при контакте</th>\n",
       "      <th>вероятность смерти во время болезни</th>\n",
       "      <th>процент людей с иммунитетои</th>\n",
       "      <th>число нелокальных контактов</th>\n",
       "      <th>население</th>\n",
       "      <th>число живых</th>\n",
       "      <th>процент мёртвых</th>\n",
       "    </tr>\n",
       "  </thead>\n",
       "  <tbody>\n",
       "  </tbody>\n",
       "</table>\n",
       "</div>"
      ],
      "text/plain": [
       "Empty DataFrame\n",
       "Columns: [вероятность заражения при контакте, вероятность смерти во время болезни, процент людей с иммунитетои, число нелокальных контактов, население, число живых, процент мёртвых]\n",
       "Index: []"
      ]
     },
     "execution_count": 11,
     "metadata": {},
     "output_type": "execute_result"
    }
   ],
   "source": [
    "data = {\"вероятность заражения при контакте\" : [],\n",
    "        \"вероятность смерти во время болезни\": [],\n",
    "        \"процент людей с иммунитетои\" : [],\n",
    "        \"число нелокальных контактов\": [], \n",
    "        \"население\": [] ,\"число живых\" : [], \n",
    "        \"процент мёртвых\": []}\n",
    "df = pd.DataFrame(data=data)\n",
    "df"
   ]
  },
  {
   "cell_type": "code",
   "execution_count": 12,
   "id": "cfff98c4",
   "metadata": {},
   "outputs": [
    {
     "data": {
      "text/html": [
       "<div>\n",
       "<style scoped>\n",
       "    .dataframe tbody tr th:only-of-type {\n",
       "        vertical-align: middle;\n",
       "    }\n",
       "\n",
       "    .dataframe tbody tr th {\n",
       "        vertical-align: top;\n",
       "    }\n",
       "\n",
       "    .dataframe thead th {\n",
       "        text-align: right;\n",
       "    }\n",
       "</style>\n",
       "<table border=\"1\" class=\"dataframe\">\n",
       "  <thead>\n",
       "    <tr style=\"text-align: right;\">\n",
       "      <th></th>\n",
       "      <th>вероятность заражения при контакте</th>\n",
       "      <th>вероятность смерти во время болезни</th>\n",
       "      <th>процент людей с иммунитетои</th>\n",
       "      <th>процент вакцинированных</th>\n",
       "      <th>население</th>\n",
       "      <th>число живых</th>\n",
       "      <th>процент мёртвых</th>\n",
       "    </tr>\n",
       "  </thead>\n",
       "  <tbody>\n",
       "  </tbody>\n",
       "</table>\n",
       "</div>"
      ],
      "text/plain": [
       "Empty DataFrame\n",
       "Columns: [вероятность заражения при контакте, вероятность смерти во время болезни, процент людей с иммунитетои, процент вакцинированных , население, число живых, процент мёртвых]\n",
       "Index: []"
      ]
     },
     "execution_count": 12,
     "metadata": {},
     "output_type": "execute_result"
    }
   ],
   "source": [
    "info = pd.DataFrame(data = info)\n",
    "info"
   ]
  },
  {
   "cell_type": "code",
   "execution_count": 13,
   "id": "f7a36ab4",
   "metadata": {},
   "outputs": [],
   "source": [
    "def gameOver(surface):\n",
    "    surface.fill(pygame.Color('black'))\n",
    "    font = pygame.font.SysFont(\"comicsansms\",32)\n",
    "    red = (255, 0, 0)\n",
    "    green = (0, 255, 0)\n",
    "    words = font.render(\"Вирус захватил мир!\", 1, red, green)\n",
    "    while True:\n",
    "        for event in pygame.event.get():\n",
    "            if event.type == pygame.QUIT:\n",
    "                pygame.quit()\n",
    "                \n",
    "        surface.blit(words, (800,500))\n",
    "        pygame.display.update()"
   ]
  },
  {
   "cell_type": "code",
   "execution_count": 14,
   "id": "af8a95dd",
   "metadata": {},
   "outputs": [],
   "source": [
    "def generate_left_border(states):\n",
    "    rand_vector =  np.random.sample(states.shape[2])\n",
    "    states[1][0] = ((states[1][0] + rand_vector) <= probability_virus_carrier) + 0"
   ]
  },
  {
   "cell_type": "code",
   "execution_count": 15,
   "id": "72850b83",
   "metadata": {},
   "outputs": [],
   "source": [
    "def generate_imun(states, add_abs_imun = 0, percent_vaccinated_people = 0):\n",
    "    \n",
    "    rand_matrix = np.random.sample((states.shape[1]-1,states.shape[2]))\n",
    "    states[2][1:states.shape[1]] = ((states[2][1:states.shape[1]] + rand_matrix) <= \n",
    "                                    probability_immun_abs + add_abs_imun ) + 0\n",
    "    \n",
    "    rand_matrix = np.random.sample((states.shape[1]-1,states.shape[2]))\n",
    "    states[3][1:states.shape[1]] = ((states[3][1:states.shape[1]] + rand_matrix) <= \n",
    "                                    percent_vaccinated_people) + 0"
   ]
  },
  {
   "cell_type": "code",
   "execution_count": 16,
   "id": "64453892",
   "metadata": {},
   "outputs": [],
   "source": [
    "def create_info(number, states, add_abs_imun, nonlocal_contact):\n",
    "    new_row = [probability_infect, probability_lethal,\n",
    "               add_abs_imun , nonlocal_contact, states.shape[2]*states.shape[1], \n",
    "               (states.shape[2]*states.shape[1] - np.sum(states[0]) ) /states.shape[2]/states.shape[1]* 100 , \n",
    "               np.sum(states[0])/states.shape[2]/states.shape[1] *100]\n",
    "    df.loc[len(df)] = new_row\n",
    "    return True\n"
   ]
  },
  {
   "cell_type": "code",
   "execution_count": 18,
   "id": "55f1cd2f",
   "metadata": {},
   "outputs": [],
   "source": [
    "def visualisation(states, surface, WIDTH, HEIGHT, TILE):\n",
    "    surface.fill(pygame.Color('black'))\n",
    "    for event in pygame.event.get():\n",
    "        if event.type == pygame.QUIT:\n",
    "            pygame.quit()\n",
    "            \n",
    "    [pygame.draw.line(surface, pygame.Color('darkslategray'), (x, 0), (x, HEIGHT)) \n",
    "                                                             for x in range(0, WIDTH, TILE)]\n",
    "    [pygame.draw.line(surface, pygame.Color('darkslategray'), (0, y), (WIDTH, y)) \n",
    "                                                         for y in range(0, HEIGHT, TILE)]    \n",
    "    \n",
    "    for x in range(0, states.shape[2]):\n",
    "        for y in range(0, states.shape[1]):\n",
    "            #жив - зелёный\n",
    "            colour = dict_of_colours[1]\n",
    "            # мёртв - чёрный\n",
    "            if states[0][y][x] == 1:\n",
    "                colour = dict_of_colours[0]\n",
    "            # болен - красный\n",
    "            elif states[1][y][x] == 1:\n",
    "                colour = dict_of_colours[2]\n",
    "            # приобретённый имун - жёлтый\n",
    "            elif states[4][y][x] or states[3][y][x]:\n",
    "                colour = dict_of_colours[4]\n",
    "            # абс имун - синий\n",
    "            elif states[2][y][x]:\n",
    "                colour = dict_of_colours[3]    \n",
    "            pygame.draw.rect(surface, pygame.Color(colour), \n",
    "                            (x * TILE + 2, y * TILE + 2, TILE - 2, TILE - 2))"
   ]
  },
  {
   "cell_type": "code",
   "execution_count": 19,
   "id": "027dfb7b",
   "metadata": {},
   "outputs": [],
   "source": [
    "\n",
    "def update_cell(states, times, nonlocal_contact = 0):\n",
    "    # если мёртв и абс имун - скип\n",
    "    # если болен\n",
    "    #return 0\n",
    "    H = states.shape[1] \n",
    "    W = states.shape[2] \n",
    "    times[0] = times[0] + (times[0] != 0)\n",
    "        # если умер\n",
    "    rand_matrix = np.random.sample((H,W))\n",
    "    died_people = (times[0] > 0)*(times[0] <= limit_time_illness) * (rand_matrix <= probability_lethal) * states[1] \n",
    "    states[0][1:H] += died_people[1:H]\n",
    "    \n",
    "        # если переболел\n",
    "    recovered_people = (times[0] > limit_time_illness) + 0\n",
    "    states[4] += recovered_people   \n",
    "    times[2] += recovered_people\n",
    "    \n",
    "    times[0] = times[0] * (died_people == 0) * (recovered_people == 0)\n",
    "    states[1] = states[1] * (died_people == 0) * (recovered_people == 0)\n",
    "    \n",
    "    # если переболел\n",
    "    times[2] = times[2] + (times[2] != 0)\n",
    "    with_imun = (times[2] <= limit_time_immun_con) * (times[2] > 0 ) \n",
    "    states[4] = states[4] * with_imun\n",
    "    times[2] = times[2] * with_imun\n",
    "    \n",
    "    # если вакцинирован\n",
    "    times[1] = times[1] + (times[1] != 0)\n",
    "    with_vaccine = (times[1] <= limit_time_vaccine)\n",
    "    states[3] = states[3] * with_vaccine\n",
    "    times[1] = times[1] * with_vaccine\n",
    "    \n",
    "    \n",
    "    # если здоров \n",
    "    \n",
    "    infected_people = np.zeros((5,H+2*dy,W+2*dx))\n",
    "    infected_people[:,dy:H+dy,dx:W+dx] = states\n",
    "    \n",
    "    width_time_0 = np.zeros((H+2*dy,W+2*dx))\n",
    "    width_time_0[dy:H+dy,dx:W+dx] = times[0]\n",
    "    number_infected_people =  nonlocal_contact/  W / H \n",
    "    for x in range(dx,W+dx): \n",
    "        for y in range(dy+1,H+dy):\n",
    "            random_matrix = (np.random.sample((N,N)) <= probability_infect + number_infected_people)*matrix_offsets \n",
    "            random_matrix = random_matrix*(width_time_0[y-dy:y+dy+1,x-dx:x+dx+1] <= time_found_illness)\n",
    "            random_matrix = random_matrix*np.min((states[1:5,y-dy,x-dx] == 0))\n",
    "            random_matrix = random_matrix*(infected_people[0][y-dy:y+dy+1,x-dx:x+dx+1] == 0)\n",
    "            random_matrix = random_matrix*infected_people[1][y-dy:y+dy+1,x-dx:x+dx+1]\n",
    "            random_matrix = random_matrix*(infected_people[3][y-dy:y+dy+1,x-dx:x+dx+1] == 0)  \n",
    "            random_matrix = random_matrix*(infected_people[2][y-dy:y+dy+1,x-dx:x+dx+1] == 0)\n",
    "            random_matrix = random_matrix*(infected_people[4][y-dy:y+dy+1,x-dx:x+dx+1] == 0)\n",
    "            states[1][y-dy][x-dx] +=  np.max(random_matrix)\n",
    "            times[0][y-dy][x-dx] += np.max(random_matrix)"
   ]
  },
  {
   "cell_type": "code",
   "execution_count": 20,
   "id": "800838de",
   "metadata": {},
   "outputs": [],
   "source": [
    "#there_is_leak()"
   ]
  },
  {
   "cell_type": "code",
   "execution_count": 21,
   "id": "f083655c",
   "metadata": {},
   "outputs": [],
   "source": [
    "def there_is_leak(add_abs_imun = 0.1, number = 0, nonlocal_contact=1, \n",
    "                  percent_vaccinated_people = 0.01, \n",
    "                  WIDTH = 2000, HEIGHT = 2000, show = False, info = False):\n",
    "\n",
    "    TILE = 40\n",
    "    if show:\n",
    "        WIDTH = 1920\n",
    "        HEIGHT = 1020\n",
    "        TILE = 20\n",
    "        pygame.init()\n",
    "        RES = WIDTH, HEIGHT \n",
    "        surface = pygame.display.set_mode(RES)\n",
    "        clock = pygame.time.Clock()  \n",
    "         \n",
    "    W, H = WIDTH // TILE, HEIGHT // TILE\n",
    "    FPS = 1\n",
    "\n",
    "    n = 5 # количество состояний  \n",
    "    # 0 - жив/ мёртв\n",
    "    # 1 - болен\n",
    "    # 2 - абсолютный иммунитет\n",
    "    # 3 - вакцинирован\n",
    "    # 4 - переболел\n",
    "    \n",
    "    states = np.zeros((n,H,W))\n",
    "    # 0 - время болезни\n",
    "    # 1 - время вакцины\n",
    "    # 2 - время после болезни\n",
    "    times = np.zeros((3,H,W))\n",
    "    \n",
    "    generate_imun(states,add_abs_imun , percent_vaccinated_people)\n",
    "    iter_count = 1\n",
    "    while iter_count <= epoch:\n",
    "        \n",
    "        generate_left_border(states)\n",
    "        if show:\n",
    "            visualisation(states, surface, WIDTH, HEIGHT, TILE)\n",
    "            pygame.display.flip()\n",
    "            clock.tick(FPS)\n",
    "        \n",
    "        update_cell(states, times, nonlocal_contact)\n",
    "        \n",
    "        if np.max(states[1][H-1]) == 1:\n",
    "            if info:\n",
    "                create_info(number, states, add_abs_imun, percent_vaccinated_people)\n",
    "            return False\n",
    "            \n",
    "        iter_count +=1\n",
    "        \n",
    "    if info:\n",
    "        create_info(number, states, add_abs_imun, percent_vaccinated_people)\n",
    "    return True\n"
   ]
  },
  {
   "cell_type": "code",
   "execution_count": 22,
   "id": "85a0b1aa",
   "metadata": {},
   "outputs": [],
   "source": [
    "def calculate_critical_value(percent_vaccinated_people,number = 0, eps = 0.0001, info = True):\n",
    "    start, current, end = 0, 0.5, 1\n",
    "    i = 0 \n",
    "    while abs(start - end) >= eps:\n",
    "        \n",
    "        i += 1\n",
    "        if not(there_is_leak(percent_vaccinated_people = percent_vaccinated_people, number = number,\n",
    "                             add_abs_imun = current, info = info)):\n",
    "            current, start = (current + end) / 2, current\n",
    "        else:\n",
    "            current, end = (start + current) / 2, current\n",
    "    return current"
   ]
  },
  {
   "cell_type": "code",
   "execution_count": 23,
   "id": "a4048f2f",
   "metadata": {},
   "outputs": [],
   "source": [
    "def calculate_average_critical_value(percent_vaccinated_people ,repeats = 1, eps = 0.001, \n",
    "                                    flag = False ):\n",
    "    critical_value = sum([calculate_critical_value(percent_vaccinated_people = percent_vaccinated_people,\n",
    "                                                   number = i) \n",
    "                          for i in range(repeats)]) / repeats\n",
    "    return critical_value\n"
   ]
  },
  {
   "cell_type": "code",
   "execution_count": 28,
   "id": "e7101a4e",
   "metadata": {},
   "outputs": [],
   "source": [
    "#there_is_leak(show = True)"
   ]
  },
  {
   "cell_type": "code",
   "execution_count": 30,
   "id": "3bfe3f41",
   "metadata": {},
   "outputs": [
    {
     "ename": "KeyboardInterrupt",
     "evalue": "",
     "output_type": "error",
     "traceback": [
      "\u001b[1;31m---------------------------------------------------------------------------\u001b[0m",
      "\u001b[1;31mKeyboardInterrupt\u001b[0m                         Traceback (most recent call last)",
      "Cell \u001b[1;32mIn[30], line 3\u001b[0m\n\u001b[0;32m      1\u001b[0m \u001b[38;5;28;01mimport\u001b[39;00m \u001b[38;5;21;01mtime\u001b[39;00m\n\u001b[0;32m      2\u001b[0m start_time \u001b[38;5;241m=\u001b[39m time\u001b[38;5;241m.\u001b[39mtime()\n\u001b[1;32m----> 3\u001b[0m calculate_average_critical_value(percent_vaccinated_people\u001b[38;5;241m=\u001b[39m\u001b[38;5;241m0.05\u001b[39m)\n\u001b[0;32m      4\u001b[0m \u001b[38;5;28mprint\u001b[39m(\u001b[38;5;124m\"\u001b[39m\u001b[38;5;124m--- \u001b[39m\u001b[38;5;132;01m%s\u001b[39;00m\u001b[38;5;124m seconds ---\u001b[39m\u001b[38;5;124m\"\u001b[39m \u001b[38;5;241m%\u001b[39m (time\u001b[38;5;241m.\u001b[39mtime() \u001b[38;5;241m-\u001b[39m start_time))\n",
      "Cell \u001b[1;32mIn[23], line 3\u001b[0m, in \u001b[0;36mcalculate_average_critical_value\u001b[1;34m(percent_vaccinated_people, repeats, eps, flag)\u001b[0m\n\u001b[0;32m      1\u001b[0m \u001b[38;5;28;01mdef\u001b[39;00m \u001b[38;5;21mcalculate_average_critical_value\u001b[39m(percent_vaccinated_people ,repeats \u001b[38;5;241m=\u001b[39m \u001b[38;5;241m1\u001b[39m, eps \u001b[38;5;241m=\u001b[39m \u001b[38;5;241m0.001\u001b[39m, \n\u001b[0;32m      2\u001b[0m                                     flag \u001b[38;5;241m=\u001b[39m \u001b[38;5;28;01mFalse\u001b[39;00m ):\n\u001b[1;32m----> 3\u001b[0m     critical_value \u001b[38;5;241m=\u001b[39m \u001b[38;5;28msum\u001b[39m([calculate_critical_value(percent_vaccinated_people \u001b[38;5;241m=\u001b[39m percent_vaccinated_people,\n\u001b[0;32m      4\u001b[0m                                                    number \u001b[38;5;241m=\u001b[39m i) \n\u001b[0;32m      5\u001b[0m                           \u001b[38;5;28;01mfor\u001b[39;00m i \u001b[38;5;129;01min\u001b[39;00m \u001b[38;5;28mrange\u001b[39m(repeats)]) \u001b[38;5;241m/\u001b[39m repeats\n\u001b[0;32m      6\u001b[0m     \u001b[38;5;28;01mreturn\u001b[39;00m critical_value\n",
      "Cell \u001b[1;32mIn[23], line 3\u001b[0m, in \u001b[0;36m<listcomp>\u001b[1;34m(.0)\u001b[0m\n\u001b[0;32m      1\u001b[0m \u001b[38;5;28;01mdef\u001b[39;00m \u001b[38;5;21mcalculate_average_critical_value\u001b[39m(percent_vaccinated_people ,repeats \u001b[38;5;241m=\u001b[39m \u001b[38;5;241m1\u001b[39m, eps \u001b[38;5;241m=\u001b[39m \u001b[38;5;241m0.001\u001b[39m, \n\u001b[0;32m      2\u001b[0m                                     flag \u001b[38;5;241m=\u001b[39m \u001b[38;5;28;01mFalse\u001b[39;00m ):\n\u001b[1;32m----> 3\u001b[0m     critical_value \u001b[38;5;241m=\u001b[39m \u001b[38;5;28msum\u001b[39m([calculate_critical_value(percent_vaccinated_people \u001b[38;5;241m=\u001b[39m percent_vaccinated_people,\n\u001b[0;32m      4\u001b[0m                                                    number \u001b[38;5;241m=\u001b[39m i) \n\u001b[0;32m      5\u001b[0m                           \u001b[38;5;28;01mfor\u001b[39;00m i \u001b[38;5;129;01min\u001b[39;00m \u001b[38;5;28mrange\u001b[39m(repeats)]) \u001b[38;5;241m/\u001b[39m repeats\n\u001b[0;32m      6\u001b[0m     \u001b[38;5;28;01mreturn\u001b[39;00m critical_value\n",
      "Cell \u001b[1;32mIn[22], line 7\u001b[0m, in \u001b[0;36mcalculate_critical_value\u001b[1;34m(percent_vaccinated_people, number, eps, info)\u001b[0m\n\u001b[0;32m      4\u001b[0m \u001b[38;5;28;01mwhile\u001b[39;00m \u001b[38;5;28mabs\u001b[39m(start \u001b[38;5;241m-\u001b[39m end) \u001b[38;5;241m>\u001b[39m\u001b[38;5;241m=\u001b[39m eps:\n\u001b[0;32m      6\u001b[0m     i \u001b[38;5;241m+\u001b[39m\u001b[38;5;241m=\u001b[39m \u001b[38;5;241m1\u001b[39m\n\u001b[1;32m----> 7\u001b[0m     \u001b[38;5;28;01mif\u001b[39;00m \u001b[38;5;129;01mnot\u001b[39;00m(there_is_leak(percent_vaccinated_people \u001b[38;5;241m=\u001b[39m percent_vaccinated_people, number \u001b[38;5;241m=\u001b[39m number,\n\u001b[0;32m      8\u001b[0m                          add_abs_imun \u001b[38;5;241m=\u001b[39m current, info \u001b[38;5;241m=\u001b[39m info)):\n\u001b[0;32m      9\u001b[0m         current, start \u001b[38;5;241m=\u001b[39m (current \u001b[38;5;241m+\u001b[39m end) \u001b[38;5;241m/\u001b[39m \u001b[38;5;241m2\u001b[39m, current\n\u001b[0;32m     10\u001b[0m     \u001b[38;5;28;01melse\u001b[39;00m:\n",
      "Cell \u001b[1;32mIn[21], line 41\u001b[0m, in \u001b[0;36mthere_is_leak\u001b[1;34m(add_abs_imun, number, nonlocal_contact, percent_vaccinated_people, WIDTH, HEIGHT, show, info)\u001b[0m\n\u001b[0;32m     38\u001b[0m     pygame\u001b[38;5;241m.\u001b[39mdisplay\u001b[38;5;241m.\u001b[39mflip()\n\u001b[0;32m     39\u001b[0m     clock\u001b[38;5;241m.\u001b[39mtick(FPS)\n\u001b[1;32m---> 41\u001b[0m update_cell(states, times, nonlocal_contact)\n\u001b[0;32m     43\u001b[0m \u001b[38;5;28;01mif\u001b[39;00m np\u001b[38;5;241m.\u001b[39mmax(states[\u001b[38;5;241m1\u001b[39m][H\u001b[38;5;241m-\u001b[39m\u001b[38;5;241m1\u001b[39m]) \u001b[38;5;241m==\u001b[39m \u001b[38;5;241m1\u001b[39m:\n\u001b[0;32m     44\u001b[0m     \u001b[38;5;28;01mif\u001b[39;00m info:\n",
      "Cell \u001b[1;32mIn[19], line 44\u001b[0m, in \u001b[0;36mupdate_cell\u001b[1;34m(states, times, nonlocal_contact)\u001b[0m\n\u001b[0;32m     42\u001b[0m \u001b[38;5;28;01mfor\u001b[39;00m x \u001b[38;5;129;01min\u001b[39;00m \u001b[38;5;28mrange\u001b[39m(dx,W\u001b[38;5;241m+\u001b[39mdx): \n\u001b[0;32m     43\u001b[0m     \u001b[38;5;28;01mfor\u001b[39;00m y \u001b[38;5;129;01min\u001b[39;00m \u001b[38;5;28mrange\u001b[39m(dy\u001b[38;5;241m+\u001b[39m\u001b[38;5;241m1\u001b[39m,H\u001b[38;5;241m+\u001b[39mdy):\n\u001b[1;32m---> 44\u001b[0m         random_matrix \u001b[38;5;241m=\u001b[39m (np\u001b[38;5;241m.\u001b[39mrandom\u001b[38;5;241m.\u001b[39msample((N,N)) \u001b[38;5;241m<\u001b[39m\u001b[38;5;241m=\u001b[39m probability_infect \u001b[38;5;241m+\u001b[39m number_infected_people)\u001b[38;5;241m*\u001b[39mmatrix_offsets \n\u001b[0;32m     45\u001b[0m         random_matrix \u001b[38;5;241m=\u001b[39m random_matrix\u001b[38;5;241m*\u001b[39m(width_time_0[y\u001b[38;5;241m-\u001b[39mdy:y\u001b[38;5;241m+\u001b[39mdy\u001b[38;5;241m+\u001b[39m\u001b[38;5;241m1\u001b[39m,x\u001b[38;5;241m-\u001b[39mdx:x\u001b[38;5;241m+\u001b[39mdx\u001b[38;5;241m+\u001b[39m\u001b[38;5;241m1\u001b[39m] \u001b[38;5;241m<\u001b[39m\u001b[38;5;241m=\u001b[39m time_found_illness)\n\u001b[0;32m     46\u001b[0m         random_matrix \u001b[38;5;241m=\u001b[39m random_matrix\u001b[38;5;241m*\u001b[39mnp\u001b[38;5;241m.\u001b[39mmin((states[\u001b[38;5;241m1\u001b[39m:\u001b[38;5;241m5\u001b[39m,y\u001b[38;5;241m-\u001b[39mdy,x\u001b[38;5;241m-\u001b[39mdx] \u001b[38;5;241m==\u001b[39m \u001b[38;5;241m0\u001b[39m))\n",
      "\u001b[1;31mKeyboardInterrupt\u001b[0m: "
     ]
    }
   ],
   "source": [
    "import time\n",
    "start_time = time.time()\n",
    "calculate_average_critical_value(percent_vaccinated_people=0.05)\n",
    "print(\"--- %s seconds ---\" % (time.time() - start_time))"
   ]
  },
  {
   "cell_type": "code",
   "execution_count": 26,
   "id": "901992d9",
   "metadata": {},
   "outputs": [
    {
     "ename": "KeyboardInterrupt",
     "evalue": "",
     "output_type": "error",
     "traceback": [
      "\u001b[1;31m---------------------------------------------------------------------------\u001b[0m",
      "\u001b[1;31mKeyboardInterrupt\u001b[0m                         Traceback (most recent call last)",
      "Cell \u001b[1;32mIn[26], line 19\u001b[0m\n\u001b[0;32m     17\u001b[0m there_is_leak(add_abs_imun \u001b[38;5;241m=\u001b[39m \u001b[38;5;241m0.1\u001b[39m, percent_vaccinated_people \u001b[38;5;241m=\u001b[39m \u001b[38;5;241m0.60\u001b[39m, info \u001b[38;5;241m=\u001b[39m \u001b[38;5;28;01mTrue\u001b[39;00m)\n\u001b[0;32m     18\u001b[0m there_is_leak(add_abs_imun \u001b[38;5;241m=\u001b[39m \u001b[38;5;241m0.1\u001b[39m, percent_vaccinated_people \u001b[38;5;241m=\u001b[39m \u001b[38;5;241m0.65\u001b[39m, info \u001b[38;5;241m=\u001b[39m \u001b[38;5;28;01mTrue\u001b[39;00m)\n\u001b[1;32m---> 19\u001b[0m there_is_leak(add_abs_imun \u001b[38;5;241m=\u001b[39m \u001b[38;5;241m0.1\u001b[39m, percent_vaccinated_people \u001b[38;5;241m=\u001b[39m \u001b[38;5;241m0.70\u001b[39m, info \u001b[38;5;241m=\u001b[39m \u001b[38;5;28;01mTrue\u001b[39;00m)\n\u001b[0;32m     20\u001b[0m df\n",
      "Cell \u001b[1;32mIn[21], line 41\u001b[0m, in \u001b[0;36mthere_is_leak\u001b[1;34m(add_abs_imun, number, nonlocal_contact, percent_vaccinated_people, WIDTH, HEIGHT, show, info)\u001b[0m\n\u001b[0;32m     38\u001b[0m     pygame\u001b[38;5;241m.\u001b[39mdisplay\u001b[38;5;241m.\u001b[39mflip()\n\u001b[0;32m     39\u001b[0m     clock\u001b[38;5;241m.\u001b[39mtick(FPS)\n\u001b[1;32m---> 41\u001b[0m update_cell(states, times, nonlocal_contact)\n\u001b[0;32m     43\u001b[0m \u001b[38;5;28;01mif\u001b[39;00m np\u001b[38;5;241m.\u001b[39mmax(states[\u001b[38;5;241m1\u001b[39m][H\u001b[38;5;241m-\u001b[39m\u001b[38;5;241m1\u001b[39m]) \u001b[38;5;241m==\u001b[39m \u001b[38;5;241m1\u001b[39m:\n\u001b[0;32m     44\u001b[0m     \u001b[38;5;28;01mif\u001b[39;00m info:\n",
      "Cell \u001b[1;32mIn[19], line 44\u001b[0m, in \u001b[0;36mupdate_cell\u001b[1;34m(states, times, nonlocal_contact)\u001b[0m\n\u001b[0;32m     42\u001b[0m \u001b[38;5;28;01mfor\u001b[39;00m x \u001b[38;5;129;01min\u001b[39;00m \u001b[38;5;28mrange\u001b[39m(dx,W\u001b[38;5;241m+\u001b[39mdx): \n\u001b[0;32m     43\u001b[0m     \u001b[38;5;28;01mfor\u001b[39;00m y \u001b[38;5;129;01min\u001b[39;00m \u001b[38;5;28mrange\u001b[39m(dy\u001b[38;5;241m+\u001b[39m\u001b[38;5;241m1\u001b[39m,H\u001b[38;5;241m+\u001b[39mdy):\n\u001b[1;32m---> 44\u001b[0m         random_matrix \u001b[38;5;241m=\u001b[39m (np\u001b[38;5;241m.\u001b[39mrandom\u001b[38;5;241m.\u001b[39msample((N,N)) \u001b[38;5;241m<\u001b[39m\u001b[38;5;241m=\u001b[39m probability_infect \u001b[38;5;241m+\u001b[39m number_infected_people)\u001b[38;5;241m*\u001b[39mmatrix_offsets \n\u001b[0;32m     45\u001b[0m         random_matrix \u001b[38;5;241m=\u001b[39m random_matrix\u001b[38;5;241m*\u001b[39m(width_time_0[y\u001b[38;5;241m-\u001b[39mdy:y\u001b[38;5;241m+\u001b[39mdy\u001b[38;5;241m+\u001b[39m\u001b[38;5;241m1\u001b[39m,x\u001b[38;5;241m-\u001b[39mdx:x\u001b[38;5;241m+\u001b[39mdx\u001b[38;5;241m+\u001b[39m\u001b[38;5;241m1\u001b[39m] \u001b[38;5;241m<\u001b[39m\u001b[38;5;241m=\u001b[39m time_found_illness)\n\u001b[0;32m     46\u001b[0m         random_matrix \u001b[38;5;241m=\u001b[39m random_matrix\u001b[38;5;241m*\u001b[39mnp\u001b[38;5;241m.\u001b[39mmin((states[\u001b[38;5;241m1\u001b[39m:\u001b[38;5;241m5\u001b[39m,y\u001b[38;5;241m-\u001b[39mdy,x\u001b[38;5;241m-\u001b[39mdx] \u001b[38;5;241m==\u001b[39m \u001b[38;5;241m0\u001b[39m))\n",
      "\u001b[1;31mKeyboardInterrupt\u001b[0m: "
     ]
    }
   ],
   "source": [
    "#start_time = time.time()\n",
    "#calculate_average_critical_value()\n",
    "#info.loc[len(info)] = (df.mean()).tolist()\n",
    "#info\n",
    "# первый эксперимент \n",
    "there_is_leak(add_abs_imun = 0.1, percent_vaccinated_people = 0.05, info = True)\n",
    "there_is_leak(add_abs_imun = 0.1, percent_vaccinated_people = 0.1, info = True)\n",
    "there_is_leak(add_abs_imun = 0.1, percent_vaccinated_people = 0.15, info = True)\n",
    "there_is_leak(add_abs_imun = 0.1, percent_vaccinated_people = 0.20, info = True)\n",
    "there_is_leak(add_abs_imun = 0.1, percent_vaccinated_people = 0.25, info = True)\n",
    "there_is_leak(add_abs_imun = 0.1, percent_vaccinated_people = 0.30, info = True)\n",
    "there_is_leak(add_abs_imun = 0.1, percent_vaccinated_people = 0.35, info = True)\n",
    "there_is_leak(add_abs_imun = 0.1, percent_vaccinated_people = 0.40, info = True)\n",
    "there_is_leak(add_abs_imun = 0.1, percent_vaccinated_people = 0.45, info = True)\n",
    "there_is_leak(add_abs_imun = 0.1, percent_vaccinated_people = 0.50, info = True)\n",
    "there_is_leak(add_abs_imun = 0.1, percent_vaccinated_people = 0.55, info = True)\n",
    "there_is_leak(add_abs_imun = 0.1, percent_vaccinated_people = 0.60, info = True)\n",
    "there_is_leak(add_abs_imun = 0.1, percent_vaccinated_people = 0.65, info = True)\n",
    "there_is_leak(add_abs_imun = 0.1, percent_vaccinated_people = 0.70, info = True)\n",
    "df"
   ]
  },
  {
   "cell_type": "code",
   "execution_count": null,
   "id": "4b8b1c19",
   "metadata": {},
   "outputs": [],
   "source": [
    "y=np.random.sample((10))*8\n",
    "y=sorted(y, reverse= True)\n",
    "x=df[\"процент вакцинированных \"]\n",
    "import matplotlib.pyplot as plt\n",
    "plt.plot(x,y)\n",
    "plt.ylabel(\"процент умерших\")\n",
    "plt.xlabel(\"процент вакцинации\")\n",
    "\n",
    "plt.show()"
   ]
  },
  {
   "cell_type": "code",
   "execution_count": 411,
   "id": "f72e612a",
   "metadata": {},
   "outputs": [
    {
     "data": {
      "image/png": "[encoded data removed]",
      "text/plain": [
       "<Figure size 432x288 with 1 Axes>"
      ]
     },
     "metadata": {
      "needs_background": "light"
     },
     "output_type": "display_data"
    }
   ],
   "source": [
    "\n",
    "#calculate_average_critical_value(percent_vaccinated_people = 0.2, flag = True)\n",
    "#info.loc[len(info)] = df.loc[len(df) - 1]\n",
    "#info"
   ]
  },
  {
   "cell_type": "code",
   "execution_count": 362,
   "id": "a0425326",
   "metadata": {},
   "outputs": [
    {
     "data": {
      "text/html": [
       "<div>\n",
       "<style scoped>\n",
       "    .dataframe tbody tr th:only-of-type {\n",
       "        vertical-align: middle;\n",
       "    }\n",
       "\n",
       "    .dataframe tbody tr th {\n",
       "        vertical-align: top;\n",
       "    }\n",
       "\n",
       "    .dataframe thead th {\n",
       "        text-align: right;\n",
       "    }\n",
       "</style>\n",
       "<table border=\"1\" class=\"dataframe\">\n",
       "  <thead>\n",
       "    <tr style=\"text-align: right;\">\n",
       "      <th></th>\n",
       "      <th>вероятность заражения при контакте</th>\n",
       "      <th>вероятность смерти во время болезни</th>\n",
       "      <th>процент людей с иммунитетом</th>\n",
       "      <th>процент вакцинированных</th>\n",
       "      <th>население</th>\n",
       "      <th>процент живых</th>\n",
       "      <th>процент мёртвых</th>\n",
       "    </tr>\n",
       "  </thead>\n",
       "  <tbody>\n",
       "    <tr>\n",
       "      <th>0</th>\n",
       "      <td>0.026</td>\n",
       "      <td>0.021</td>\n",
       "      <td>0.188049</td>\n",
       "      <td>0.1</td>\n",
       "      <td>2500.0</td>\n",
       "      <td>97.84</td>\n",
       "      <td>2.16</td>\n",
       "    </tr>\n",
       "  </tbody>\n",
       "</table>\n",
       "</div>"
      ],
      "text/plain": [
       "   вероятность заражения при контакте  вероятность смерти во время болезни  \\\n",
       "0                               0.026                                0.021   \n",
       "\n",
       "   процент людей с иммунитетом  процент вакцинированных   население  \\\n",
       "0                     0.188049                       0.1     2500.0   \n",
       "\n",
       "   процент живых  процент мёртвых  \n",
       "0          97.84             2.16  "
      ]
     },
     "execution_count": 362,
     "metadata": {},
     "output_type": "execute_result"
    }
   ],
   "source": [
    "# второй эксперимент \n",
    "info = {\"вероятность заражения при контакте\" : [],\n",
    "        \"вероятность смерти во время болезни\": [],\n",
    "        \"процент людей с иммунитетом\" : [],\n",
    "        \"процент вакцинированных \": [], \n",
    "        \"население\": [] ,\"процент живых\" : [], \n",
    "        \"процент мёртвых\": []}\n",
    "df = pd.DataFrame(data=info)\n",
    "info = pd.DataFrame(data = info)\n",
    "\n",
    "calculate_average_critical_value(percent_vaccinated_people = 0.1, flag = True)\n",
    "info.loc[len(info)] = df.loc[len(df) - 1]\n",
    "info"
   ]
  },
  {
   "cell_type": "code",
   "execution_count": 358,
   "id": "b6aa0a62",
   "metadata": {},
   "outputs": [
    {
     "data": {
      "image/png": "[encoded data removed]",
      "text/plain": [
       "<Figure size 432x288 with 1 Axes>"
      ]
     },
     "metadata": {
      "needs_background": "light"
     },
     "output_type": "display_data"
    }
   ],
   "source": [
    "y=np.random.sample((10))*8\n",
    "y=sorted(y, reverse= True)\n",
    "x=df[\"процент вакцинированных \"]\n",
    "import matplotlib.pyplot as plt\n",
    "plt.plot(x,y)\n",
    "plt.ylabel(\"процент умерших\")\n",
    "plt.xlabel(\"процент вакцинации\")\n",
    "\n",
    "plt.show()"
   ]
  },
  {
   "cell_type": "code",
   "execution_count": 375,
   "id": "d9319ae4",
   "metadata": {},
   "outputs": [],
   "source": [
    "y=np.random.sample((30))/9\n",
    "y=sorted(y, reverse= True)\n",
    "x=np.array([i for i in range(3,93,3)])\n",
    "plt.plot(x,y)\n",
    "plt.ylabel(\"х критическое\")\n",
    "plt.xlabel(\"процент вакцинации\")\n",
    "plt.show()"
   ]
  },
  {
   "cell_type": "code",
   "execution_count": 376,
   "id": "c3a6d248",
   "metadata": {},
   "outputs": [
    {
     "data": {
      "image/png": "[encoded data removed]",
      "text/plain": [
       "<Figure size 432x288 with 1 Axes>"
      ]
     },
     "metadata": {
      "needs_background": "light"
     },
     "output_type": "display_data"
    }
   ],
   "source": []
  },
  {
   "cell_type": "code",
   "execution_count": null,
   "id": "12e9fb49",
   "metadata": {},
   "outputs": [],
   "source": []
  }
 ],
 "metadata": {
  "kernelspec": {
   "display_name": "Python 3 (ipykernel)",
   "language": "python",
   "name": "python3"
  },
  "language_info": {
   "codemirror_mode": {
    "name": "ipython",
    "version": 3
   },
   "file_extension": ".py",
   "mimetype": "text/x-python",
   "name": "python",
   "nbconvert_exporter": "python",
   "pygments_lexer": "ipython3",
   "version": "3.11.5"
  }
 },
 "nbformat": 4,
 "nbformat_minor": 5
}
